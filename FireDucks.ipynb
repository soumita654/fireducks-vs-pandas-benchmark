{
  "nbformat": 4,
  "nbformat_minor": 0,
  "metadata": {
    "colab": {
      "provenance": [],
      "authorship_tag": "ABX9TyOOj/uk7q8SPV0PsIXaaeYY",
      "include_colab_link": true
    },
    "kernelspec": {
      "name": "python3",
      "display_name": "Python 3"
    },
    "language_info": {
      "name": "python"
    }
  },
  "cells": [
    {
      "cell_type": "markdown",
      "metadata": {
        "id": "view-in-github",
        "colab_type": "text"
      },
      "source": [
        "<a href=\"https://colab.research.google.com/github/soumita654/fireducks-vs-pandas-benchmark/blob/main/FireDucks.ipynb\" target=\"_parent\"><img src=\"https://colab.research.google.com/assets/colab-badge.svg\" alt=\"Open In Colab\"/></a>"
      ]
    },
    {
      "cell_type": "markdown",
      "source": [
        "## ***Code Snippets with Benchmark Mode***"
      ],
      "metadata": {
        "id": "wAjDAaCb1scS"
      }
    },
    {
      "cell_type": "code",
      "execution_count": null,
      "metadata": {
        "id": "bi6xNGD5k6tL"
      },
      "outputs": [],
      "source": [
        "#Enable FireDucks Benchmark Mode\n",
        "import os\n",
        "os.environ[\"FIREDUCKS_BENCHMARK\"] = \"1\""
      ]
    },
    {
      "cell_type": "markdown",
      "source": [
        "## **Force Evaluation**"
      ],
      "metadata": {
        "id": "yxJBYgk42FXx"
      }
    },
    {
      "cell_type": "code",
      "source": [
        "def evaluate(label, func):\n",
        "    import time\n",
        "    start = time.time()\n",
        "    result = func()\n",
        "    end = time.time()\n",
        "    print(f\"{label}: {end - start:.4f} sec\")\n",
        "    return result\n"
      ],
      "metadata": {
        "id": "mL-JtI7zlhG4"
      },
      "execution_count": null,
      "outputs": []
    },
    {
      "cell_type": "markdown",
      "source": [
        "## **🧪 Create Synthetic Dataset**"
      ],
      "metadata": {
        "id": "_3mYKm-s3-tJ"
      }
    },
    {
      "cell_type": "code",
      "source": [
        "!pip install fireducks\n",
        "import pandas as pd\n",
        "import fireducks.pandas as pd\n",
        "from sklearn.datasets import make_classification\n",
        "\n",
        "X, y = make_classification(n_samples=10_000_000, n_features=20, random_state=42)\n",
        "columns = [f'feature_{i}' for i in range(20)]\n",
        "\n",
        "df_pd = pd.DataFrame(X, columns=columns)\n",
        "df_pd['target'] = y\n",
        "\n",
        "# Save as Parquet (used for both tools)\n",
        "df_pd.to_parquet('benchmark_dataset.parquet')"
      ],
      "metadata": {
        "colab": {
          "base_uri": "https://localhost:8080/"
        },
        "collapsed": true,
        "id": "tABEHQrelmOn",
        "outputId": "327bc02e-706a-43a1-f98c-cbc0ba3b4a68"
      },
      "execution_count": 4,
      "outputs": [
        {
          "output_type": "stream",
          "name": "stdout",
          "text": [
            "Collecting fireducks\n",
            "  Downloading fireducks-1.2.7-cp311-cp311-manylinux_2_28_x86_64.whl.metadata (1.0 kB)\n",
            "Collecting firefw==1.2.7 (from fireducks)\n",
            "  Downloading firefw-1.2.7-py3-none-any.whl.metadata (818 bytes)\n",
            "Requirement already satisfied: pandas<2.3.0,>=1.5.3 in /usr/local/lib/python3.11/dist-packages (from fireducks) (2.2.2)\n",
            "Collecting pyarrow<19.1,>=19.0 (from fireducks)\n",
            "  Downloading pyarrow-19.0.1-cp311-cp311-manylinux_2_28_x86_64.whl.metadata (3.3 kB)\n",
            "Requirement already satisfied: numpy>=1.23.2 in /usr/local/lib/python3.11/dist-packages (from pandas<2.3.0,>=1.5.3->fireducks) (2.0.2)\n",
            "Requirement already satisfied: python-dateutil>=2.8.2 in /usr/local/lib/python3.11/dist-packages (from pandas<2.3.0,>=1.5.3->fireducks) (2.8.2)\n",
            "Requirement already satisfied: pytz>=2020.1 in /usr/local/lib/python3.11/dist-packages (from pandas<2.3.0,>=1.5.3->fireducks) (2025.2)\n",
            "Requirement already satisfied: tzdata>=2022.7 in /usr/local/lib/python3.11/dist-packages (from pandas<2.3.0,>=1.5.3->fireducks) (2025.2)\n",
            "Requirement already satisfied: six>=1.5 in /usr/local/lib/python3.11/dist-packages (from python-dateutil>=2.8.2->pandas<2.3.0,>=1.5.3->fireducks) (1.17.0)\n",
            "Downloading fireducks-1.2.7-cp311-cp311-manylinux_2_28_x86_64.whl (7.4 MB)\n",
            "\u001b[2K   \u001b[90m━━━━━━━━━━━━━━━━━━━━━━━━━━━━━━━━━━━━━━━━\u001b[0m \u001b[32m7.4/7.4 MB\u001b[0m \u001b[31m49.6 MB/s\u001b[0m eta \u001b[36m0:00:00\u001b[0m\n",
            "\u001b[?25hDownloading firefw-1.2.7-py3-none-any.whl (12 kB)\n",
            "Downloading pyarrow-19.0.1-cp311-cp311-manylinux_2_28_x86_64.whl (42.1 MB)\n",
            "\u001b[2K   \u001b[90m━━━━━━━━━━━━━━━━━━━━━━━━━━━━━━━━━━━━━━━━\u001b[0m \u001b[32m42.1/42.1 MB\u001b[0m \u001b[31m15.8 MB/s\u001b[0m eta \u001b[36m0:00:00\u001b[0m\n",
            "\u001b[?25hInstalling collected packages: pyarrow, firefw, fireducks\n",
            "  Attempting uninstall: pyarrow\n",
            "    Found existing installation: pyarrow 18.1.0\n",
            "    Uninstalling pyarrow-18.1.0:\n",
            "      Successfully uninstalled pyarrow-18.1.0\n",
            "Successfully installed fireducks-1.2.7 firefw-1.2.7 pyarrow-19.0.1\n"
          ]
        }
      ]
    },
    {
      "source": [
        "import pandas as pd # This pd is overwritten\n",
        "import fireducks.pandas as pd # by this pd"
      ],
      "cell_type": "code",
      "metadata": {
        "id": "8hA6_xRPnV8e"
      },
      "execution_count": null,
      "outputs": []
    },
    {
      "cell_type": "markdown",
      "source": [
        "## **🐼 Benchmarking Pandas**"
      ],
      "metadata": {
        "id": "11tjfIs74LWb"
      }
    },
    {
      "source": [
        "import time\n",
        "from sklearn.preprocessing import MinMaxScaler\n",
        "import pandas as pd # Make sure pandas is imported and aliased as pd\n",
        "\n",
        "# Load with pandas\n",
        "start = time.time()\n",
        "df_pandas = pd.read_parquet('benchmark_dataset.parquet') # Now pd refers to pandas\n",
        "df_pandas.head()  # Force evaluation\n",
        "load_pandas_time = time.time() - start\n",
        "\n",
        "# Preprocessing with pandas\n",
        "start = time.time()\n",
        "scaler = MinMaxScaler()\n",
        "scaled_pandas = scaler.fit_transform(df_pandas.drop('target', axis=1))\n",
        "_ = scaled_pandas.mean()  # Force evaluation\n",
        "preprocess_pandas_time = time.time() - start"
      ],
      "cell_type": "code",
      "metadata": {
        "id": "SGgHN5GinZKD"
      },
      "execution_count": 1,
      "outputs": []
    },
    {
      "cell_type": "markdown",
      "source": [
        "## **🔥 Benchmarking FireDucks**"
      ],
      "metadata": {
        "id": "l3C5sbEM5FAa"
      }
    },
    {
      "source": [
        "# Load with FireDucks\n",
        "import time # Import the time module here\n",
        "import fireducks.pandas as pd  # Import fireducks.pandas as pd here\n",
        "\n",
        "start = time.time()\n",
        "df_fd = pd.read_parquet('benchmark_dataset.parquet')\n",
        "df_fd.head()  # Force evaluation\n",
        "load_fd_time = time.time() - start\n",
        "\n",
        "# Preprocessing\n",
        "start = time.time()\n",
        "# Use the columns attribute to select columns to drop\n",
        "fd_values = df_fd[[col for col in df_fd.columns if col != 'target']].to_numpy()\n",
        "\n",
        "# Assuming 'scaler' is defined in a previous cell\n",
        "# If not, you'll need to define it before using it here\n",
        "from sklearn.preprocessing import MinMaxScaler # import MinMaxScaler\n",
        "scaler = MinMaxScaler() # define scaler\n",
        "\n",
        "scaled_fd = scaler.fit_transform(fd_values)\n",
        "_ = scaled_fd.mean()  # Force evaluation\n",
        "preprocess_fd_time = time.time() - start"
      ],
      "cell_type": "code",
      "metadata": {
        "id": "_dTav-SvoTtL"
      },
      "execution_count": 6,
      "outputs": []
    },
    {
      "cell_type": "markdown",
      "source": [
        "## **🧾 Benchmark Summary**"
      ],
      "metadata": {
        "id": "wELcJqrE4cJZ"
      }
    },
    {
      "source": [
        "from IPython import get_ipython\n",
        "from IPython.display import display\n",
        "# %%\n",
        "#Enable FireDucks Benchmark Mode\n",
        "import os\n",
        "os.environ[\"FIREDUCKS_BENCHMARK\"] = \"1\"\n",
        "# %%\n",
        "def evaluate(label, func):\n",
        "    import time\n",
        "    start = time.time()\n",
        "    result = func()\n",
        "    end = time.time()\n",
        "    print(f\"{label}: {end - start:.4f} sec\")\n",
        "    return result\n",
        "\n",
        "# %%\n",
        "!pip install fireducks\n",
        "import pandas as pd\n",
        "import fireducks.pandas as fpd # Change to fpd to avoid conflict\n",
        "from sklearn.datasets import make_classification\n",
        "\n",
        "X, y = make_classification(n_samples=10_000_000, n_features=20, random_state=42)\n",
        "columns = [f'feature_{i}' for i in range(20)]\n",
        "\n",
        "df_pd = pd.DataFrame(X, columns=columns)\n",
        "df_pd['target'] = y\n",
        "\n",
        "# Save as Parquet (used for both tools)\n",
        "df_pd.to_parquet('benchmark_dataset.parquet')\n",
        "# %%\n",
        "\n",
        "# %%\n",
        "# Removed conflicting import - import pandas as pd\n",
        "# Removed conflicting import - import fireducks.pandas as pd\n",
        "# %%\n",
        "\n",
        "# %%\n",
        "import time\n",
        "from sklearn.preprocessing import MinMaxScaler\n",
        "import pandas as pd # Make sure pandas is imported and aliased as pd\n",
        "\n",
        "# Load with pandas\n",
        "start = time.time()\n",
        "df_pandas = pd.read_parquet('benchmark_dataset.parquet') # Now pd refers to pandas\n",
        "df_pandas.head()  # Force evaluation\n",
        "load_pandas_time = time.time() - start\n",
        "\n",
        "# Preprocessing with pandas\n",
        "start = time.time()\n",
        "scaler = MinMaxScaler()\n",
        "scaled_pandas = scaler.fit_transform(df_pandas.drop('target', axis=1))\n",
        "_ = scaled_pandas.mean()  # Force evaluation\n",
        "preprocess_pandas_time = time.time() - start\n",
        "# %%\n",
        "# Load with FireDucks\n",
        "import time # Import the time module here\n",
        "import fireducks.pandas as fpd  # Import fireducks.pandas as fpd here\n",
        "\n",
        "start = time.time()\n",
        "df_fd = fpd.read_parquet('benchmark_dataset.parquet') # Use fpd to call read_parquet\n",
        "df_fd.head()  # Force evaluation\n",
        "load_fd_time = time.time() - start\n",
        "\n",
        "# Preprocessing\n",
        "start = time.time()\n",
        "# Use the columns attribute to select columns to drop\n",
        "fd_values = df_fd[[col for col in df_fd.columns if col != 'target']].to_numpy()\n",
        "\n",
        "# Assuming 'scaler' is defined in a previous cell\n",
        "# If not, you'll need to define it before using it here\n",
        "from sklearn.preprocessing import MinMaxScaler # import MinMaxScaler\n",
        "scaler = MinMaxScaler() # define scaler\n",
        "\n",
        "scaled_fd = scaler.fit_transform(fd_values)\n",
        "_ = scaled_fd.mean()  # Force evaluation\n",
        "preprocess_fd_time = time.time() - start\n",
        "# %%\n",
        "print(\"\\n=== Benchmark Summary ===\")\n",
        "print(f\"Pandas Load Time         : {load_pandas_time:.2f} sec\")\n",
        "print(f\"FireDucks Load Time      : {load_fd_time:.2f} sec\")\n",
        "print(f\"Pandas Preprocessing Time: {preprocess_pandas_time:.2f} sec\")\n",
        "print(f\"FireDucks Preprocessing  : {preprocess_fd_time:.2f} sec\")"
      ],
      "cell_type": "code",
      "metadata": {
        "colab": {
          "base_uri": "https://localhost:8080/"
        },
        "collapsed": true,
        "id": "7nE8JTf2t8D0",
        "outputId": "63b44108-859d-4016-a4cc-961cfe6842c2"
      },
      "execution_count": 1,
      "outputs": [
        {
          "output_type": "stream",
          "name": "stdout",
          "text": [
            "Requirement already satisfied: fireducks in /usr/local/lib/python3.11/dist-packages (1.2.7)\n",
            "Requirement already satisfied: firefw==1.2.7 in /usr/local/lib/python3.11/dist-packages (from fireducks) (1.2.7)\n",
            "Requirement already satisfied: pandas<2.3.0,>=1.5.3 in /usr/local/lib/python3.11/dist-packages (from fireducks) (2.2.2)\n",
            "Requirement already satisfied: pyarrow<19.1,>=19.0 in /usr/local/lib/python3.11/dist-packages (from fireducks) (19.0.1)\n",
            "Requirement already satisfied: numpy>=1.23.2 in /usr/local/lib/python3.11/dist-packages (from pandas<2.3.0,>=1.5.3->fireducks) (2.0.2)\n",
            "Requirement already satisfied: python-dateutil>=2.8.2 in /usr/local/lib/python3.11/dist-packages (from pandas<2.3.0,>=1.5.3->fireducks) (2.8.2)\n",
            "Requirement already satisfied: pytz>=2020.1 in /usr/local/lib/python3.11/dist-packages (from pandas<2.3.0,>=1.5.3->fireducks) (2025.2)\n",
            "Requirement already satisfied: tzdata>=2022.7 in /usr/local/lib/python3.11/dist-packages (from pandas<2.3.0,>=1.5.3->fireducks) (2025.2)\n",
            "Requirement already satisfied: six>=1.5 in /usr/local/lib/python3.11/dist-packages (from python-dateutil>=2.8.2->pandas<2.3.0,>=1.5.3->fireducks) (1.17.0)\n",
            "\n",
            "=== Benchmark Summary ===\n",
            "Pandas Load Time         : 3.14 sec\n",
            "FireDucks Load Time      : 0.10 sec\n",
            "Pandas Preprocessing Time: 2.49 sec\n",
            "FireDucks Preprocessing  : 6.48 sec\n"
          ]
        }
      ]
    },
    {
      "cell_type": "markdown",
      "source": [
        "## **📊 Visualization**"
      ],
      "metadata": {
        "id": "_j00-3Vn5RvV"
      }
    },
    {
      "cell_type": "code",
      "source": [
        "import matplotlib.pyplot as plt\n",
        "\n",
        "labels = ['Load Parquet', 'Preprocessing']\n",
        "pandas_times = [load_pandas_time, preprocess_pandas_time]\n",
        "fireducks_times = [load_fd_time, preprocess_fd_time]\n",
        "\n",
        "bar_width = 0.35\n",
        "index = range(len(labels))\n",
        "\n",
        "plt.figure(figsize=(10, 6))\n",
        "plt.bar(index, pandas_times, bar_width, label='Pandas', color='skyblue')\n",
        "plt.bar([i + bar_width for i in index], fireducks_times, bar_width, label='FireDucks', color='salmon')\n",
        "\n",
        "plt.xlabel('Operation')\n",
        "plt.ylabel('Time (seconds)')\n",
        "plt.title('Benchmark: Pandas vs FireDucks')\n",
        "plt.xticks([i + bar_width / 2 for i in index], labels)\n",
        "plt.legend()\n",
        "plt.grid(True, linestyle='--', alpha=0.7)\n",
        "plt.tight_layout()\n",
        "plt.show()"
      ],
      "metadata": {
        "colab": {
          "base_uri": "https://localhost:8080/",
          "height": 607
        },
        "collapsed": true,
        "id": "3kRgJa0o0tXB",
        "outputId": "8340f2f1-4049-4547-d855-89becd8f988e"
      },
      "execution_count": 7,
      "outputs": [
        {
          "output_type": "display_data",
          "data": {
            "text/plain": [
              "<Figure size 1000x600 with 1 Axes>"
            ],
            "image/png": "[encoded data removed]"
          },
          "metadata": {}
        }
      ]
    },
    {
      "cell_type": "markdown",
      "source": [
        "##**Configuration**"
      ],
      "metadata": {
        "id": "Mi_R3bxBpiNY"
      }
    },
    {
      "cell_type": "code",
      "source": [
        "!pip install python-dotenv"
      ],
      "metadata": {
        "colab": {
          "base_uri": "https://localhost:8080/"
        },
        "id": "6HOGciQpngCv",
        "outputId": "b28d4ede-2f6e-4712-fdbb-18ef521ea94d"
      },
      "execution_count": 2,
      "outputs": [
        {
          "output_type": "stream",
          "name": "stdout",
          "text": [
            "Collecting python-dotenv\n",
            "  Downloading python_dotenv-1.1.0-py3-none-any.whl.metadata (24 kB)\n",
            "Downloading python_dotenv-1.1.0-py3-none-any.whl (20 kB)\n",
            "Installing collected packages: python-dotenv\n",
            "Successfully installed python-dotenv-1.1.0\n"
          ]
        }
      ]
    },
    {
      "cell_type": "code",
      "source": [
        "import os\n",
        "from dotenv import load_dotenv\n",
        "\n",
        "load_dotenv()\n",
        "\n",
        "FIREDUCKS_BENCHMARK = os.getenv(\"FIREDUCKS_BENCHMARK\", \"1\")\n",
        "DATA_PATH = os.getenv(\"DATA_PATH\", \"./data/benchmark_dataset.parquet\")\n",
        "NUM_SAMPLES = int(os.getenv(\"NUM_SAMPLES\", 10_000_000))\n",
        "NUM_FEATURES = int(os.getenv(\"NUM_FEATURES\", 20))\n",
        "SEED = int(os.getenv(\"SEED\", 42))"
      ],
      "metadata": {
        "id": "8DNao4GBnjhr"
      },
      "execution_count": 3,
      "outputs": []
    }
  ]
}